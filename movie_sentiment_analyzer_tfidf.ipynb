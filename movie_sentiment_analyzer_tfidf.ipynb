{
 "cells": [
  {
   "cell_type": "code",
   "execution_count": 10,
   "metadata": {},
   "outputs": [],
   "source": [
    "import numpy as np\n",
    "import pandas as pd\n",
    "\n",
    "df = pd.read_csv('../TextFiles/moviereviews2.tsv', sep='\\t')\n",
    "\n",
    "# Drop missing values / blanks\n",
    "def missing_vals(df):\n",
    "    df.dropna(inplace=True)\n",
    "    blanks = []\n",
    "    for i,lb,rv in df.itertuples():\n",
    "        if type(rv)==str:            \n",
    "            if rv.isspace():         \n",
    "                blanks.append(i)\n",
    "    df.drop(blanks, inplace=True)\n",
    "\n",
    "missing_vals(df)"
   ]
  },
  {
   "cell_type": "code",
   "execution_count": 16,
   "metadata": {},
   "outputs": [],
   "source": [
    "from sklearn.model_selection import train_test_split\n",
    "X = df['review']\n",
    "y = df['label']\n",
    "\n",
    "X_train, X_test, y_train, y_test = train_test_split(X, y, test_size=0.33, random_state=24)"
   ]
  },
  {
   "cell_type": "code",
   "execution_count": 28,
   "metadata": {},
   "outputs": [],
   "source": [
    "from sklearn.pipeline import Pipeline\n",
    "from sklearn.feature_extraction.text import TfidfVectorizer\n",
    "from sklearn.naive_bayes import MultinomialNB\n",
    "from sklearn.ensemble import RandomForestClassifier\n",
    "\n",
    "# Naïve Bayes:\n",
    "nb_text_classifier = Pipeline([('tfidf', TfidfVectorizer()),\n",
    "                     ('clf', MultinomialNB()),\n",
    "])\n",
    "\n",
    "# Random Forest\n",
    "rf_text_classifier = Pipeline([('tfidf', TfidfVectorizer()),\n",
    "                     ('rf', RandomForestClassifier()),\n",
    "])"
   ]
  },
  {
   "cell_type": "code",
   "execution_count": 29,
   "metadata": {},
   "outputs": [],
   "source": [
    "from sklearn import metrics\n",
    "def model_results(model):\n",
    "    model.fit(X_train, y_train)\n",
    "    predictions = model.predict(X_test)\n",
    "    print(metrics.confusion_matrix(y_test,predictions))\n",
    "    print(metrics.classification_report(y_test,predictions))\n",
    "    print(\"Accuracy: \",round(metrics.accuracy_score(y_test,predictions),2))"
   ]
  },
  {
   "cell_type": "code",
   "execution_count": 30,
   "metadata": {},
   "outputs": [
    {
     "name": "stdout",
     "output_type": "stream",
     "text": [
      "[[935  34]\n",
      " [147 858]]\n",
      "              precision    recall  f1-score   support\n",
      "\n",
      "         neg       0.86      0.96      0.91       969\n",
      "         pos       0.96      0.85      0.90      1005\n",
      "\n",
      "    accuracy                           0.91      1974\n",
      "   macro avg       0.91      0.91      0.91      1974\n",
      "weighted avg       0.91      0.91      0.91      1974\n",
      "\n",
      "Accuracy:  0.91\n"
     ]
    }
   ],
   "source": [
    "model_results(nb_text_classifier)"
   ]
  },
  {
   "cell_type": "code",
   "execution_count": 31,
   "metadata": {},
   "outputs": [
    {
     "name": "stdout",
     "output_type": "stream",
     "text": [
      "[[852 117]\n",
      " [138 867]]\n",
      "              precision    recall  f1-score   support\n",
      "\n",
      "         neg       0.86      0.88      0.87       969\n",
      "         pos       0.88      0.86      0.87      1005\n",
      "\n",
      "    accuracy                           0.87      1974\n",
      "   macro avg       0.87      0.87      0.87      1974\n",
      "weighted avg       0.87      0.87      0.87      1974\n",
      "\n",
      "Accuracy:  0.87\n"
     ]
    }
   ],
   "source": [
    "model_results(rf_text_classifier)"
   ]
  },
  {
   "cell_type": "code",
   "execution_count": 54,
   "metadata": {},
   "outputs": [
    {
     "name": "stdout",
     "output_type": "stream",
     "text": [
      "['pos']\n"
     ]
    }
   ],
   "source": [
    "myreview = 'I thought it was great.'\n",
    "print(nb_text_classifier.predict([myreview]))"
   ]
  },
  {
   "cell_type": "code",
   "execution_count": 55,
   "metadata": {},
   "outputs": [
    {
     "name": "stdout",
     "output_type": "stream",
     "text": [
      "['neg']\n"
     ]
    }
   ],
   "source": [
    "myreview = 'I thought it was terrible.'\n",
    "print(nb_text_classifier.predict([myreview]))"
   ]
  }
 ],
 "metadata": {
  "kernelspec": {
   "display_name": "Python 3 (ipykernel)",
   "language": "python",
   "name": "python3"
  },
  "language_info": {
   "codemirror_mode": {
    "name": "ipython",
    "version": 3
   },
   "file_extension": ".py",
   "mimetype": "text/x-python",
   "name": "python",
   "nbconvert_exporter": "python",
   "pygments_lexer": "ipython3",
   "version": "3.9.12"
  }
 },
 "nbformat": 4,
 "nbformat_minor": 2
}
